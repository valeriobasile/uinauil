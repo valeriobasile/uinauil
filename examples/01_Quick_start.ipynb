{
 "cells": [
  {
   "cell_type": "markdown",
   "id": "478f3c20",
   "metadata": {},
   "source": [
    "# Quick start\n",
    "\n",
    "This notebook presents the **basic functionalities** of the `uinauil` package.\n",
    "\n",
    "## 1. Import \n",
    "\n",
    "How to the `uinauil` package:"
   ]
  },
  {
   "cell_type": "code",
   "execution_count": 1,
   "id": "aef3d290",
   "metadata": {},
   "outputs": [],
   "source": [
    "#!pip install elg\n",
    "#!pip install scikit-learn\n",
    "from evalita4elg.uinauil.src import uinauil as ul\n",
    "#import uinauil as ul"
   ]
  },
  {
   "cell_type": "markdown",
   "id": "ed48fa32",
   "metadata": {},
   "source": [
    "## 2. Tasks\n",
    "Get the list of **available tasks**"
   ]
  },
  {
   "cell_type": "code",
   "execution_count": 2,
   "id": "5aa41fc0",
   "metadata": {},
   "outputs": [
    {
     "data": {
      "text/plain": [
       "{'haspeede': {'id': 7498, 'task': 'classification'},\n",
       " 'textualentailment': {'id': 8121, 'task': 'pairs'},\n",
       " 'eventi': {'id': 7376, 'task': 'sequence'},\n",
       " 'sentipolc': {'id': 7479, 'task': 'classification'},\n",
       " 'facta': {'id': 8045, 'task': 'sequence'},\n",
       " 'ironita': {'id': 7372, 'task': 'classification'}}"
      ]
     },
     "execution_count": 2,
     "metadata": {},
     "output_type": "execute_result"
    }
   ],
   "source": [
    "ul.tasks"
   ]
  },
  {
   "cell_type": "markdown",
   "id": "b4b65d3e",
   "metadata": {},
   "source": [
    "## 3. Work on a task\n",
    "\n",
    "You can now **select** one of the available tasks using its **name**, for example `'ironita'`.\n",
    "\n",
    "Howeve, for accessing a task you need to insert the **success code** of the [ELG (European Language Grid) platform](https://live.european-language-grid.eu/). You need this code only for the first time you use a task.\n",
    "\n",
    "If you don't have such code, you need to:\n",
    "1. **login** or register to ELG at [this link](https://live.european-language-grid.eu/auth/realms/ELG/protocol/openid-connect/auth?client_id=elg-oob&redirect_uri=urn:ietf:wg:oauth:2.0:oob&response_type=code&scope=openid)\n",
    "2. **get the code** visiting one of these urls:\n",
    "    - for short-term authentication that needs to get refreshed regularly: https://live.european-language-grid.eu/auth/realms/ELG/protocol/openid-connect/auth?client_id=elg-oob&redirect_uri=urn:ietf:wg:oauth:2.0:oob&response_type=code&scope=openid\n",
    "    - for offline access: https://live.european-language-grid.eu/auth/realms/ELG/protocol/openid-connect/auth?client_id=elg-oob&redirect_uri=urn:ietf:wg:oauth:2.0:oob&response_type=code&scope=offline_access\n"
   ]
  },
  {
   "cell_type": "code",
   "execution_count": 3,
   "id": "2caa796e",
   "metadata": {},
   "outputs": [
    {
     "name": "stderr",
     "output_type": "stream",
     "text": [
      "2023-02-15 14:02:32,559 INFO reading data for task: ironita\n",
      "2023-02-15 14:02:32,561 INFO zip file already downloaded: ./data/ironita.zip\n",
      "2023-02-15 14:02:32,562 WARNING directory exists: ./data/ironita and not empty. Skipping extraction.\n"
     ]
    }
   ],
   "source": [
    "task = ul.Task('ironita')"
   ]
  },
  {
   "cell_type": "markdown",
   "id": "a97d0894",
   "metadata": {},
   "source": [
    "The dataset has been stored in your computer into the `./data` folder.\n",
    "\n",
    "Now you can get a **brief description** of the current task with its `desc` attribute"
   ]
  },
  {
   "cell_type": "code",
   "execution_count": 4,
   "id": "ae765771",
   "metadata": {},
   "outputs": [
    {
     "name": "stdout",
     "output_type": "stream",
     "text": [
      "----------------------------------------------------------------------\n",
      "Id             7372\n",
      "Name           IronITA\n",
      "Resource type  Corpus\n",
      "Entity type    LanguageResource\n",
      "Description    The IronITA dataset collects 4,849 tweets annotated for\n",
      "               irony and sarcasm. The dataset has been used in the\n",
      "               IroniTA task (http://www.di.unito.it/~tutreeb/ironita-\n",
      "               evalita18), organised as part of EVALITA 2018\n",
      "               (http://www.evalita.it/2018). <p>The dataset is divided\n",
      "               into training and test data, constituted of\n",
      "               respectively 3,977 and 872 tweets. In order to comply\n",
      "               with GDPR privacy rules and Twitter’s policies, the\n",
      "               identifiers of tweets and users have been anonymized\n",
      "               and replaced by unique identifiers.\n",
      "Licences       ['Creative Commons Attribution Non Commercial Share\n",
      "               Alike 4.0 International']\n",
      "Languages      ['Italian']\n",
      "Status         p\n",
      "----------------------------------------------------------------------\n"
     ]
    }
   ],
   "source": [
    "print(task.desc)"
   ]
  },
  {
   "cell_type": "markdown",
   "id": "ab61f6ec",
   "metadata": {},
   "source": [
    "### 3.1 Get training and test sets\n",
    "\n",
    "The **training set** is stored into the `data.training_set` variable, in JSON format"
   ]
  },
  {
   "cell_type": "code",
   "execution_count": 5,
   "id": "48d48b75",
   "metadata": {},
   "outputs": [
    {
     "data": {
      "text/plain": [
       "[{'id': '811156813181841408',\n",
       "  'text': 'Zurigo, trovato morto il presunto autore della sparatoria nel centro islamico #20dicembre <URL>',\n",
       "  'label': 0},\n",
       " {'id': '811183087350595584',\n",
       "  'text': 'Zurigo, trovato morto il presunto autore della sparatoria nel centro islamico - <URL> tramite <URL>',\n",
       "  'label': 0},\n",
       " {'id': '826380632376881152',\n",
       "  'text': 'Zingari..i soliti \"MERDOSI\"..#cacciamolivia Roma, i rom aggrediscono un 81enne per rapinarlo. Bloccati dai cittadini <URL>',\n",
       "  'label': 0}]"
      ]
     },
     "execution_count": 5,
     "metadata": {},
     "output_type": "execute_result"
    }
   ],
   "source": [
    "train = task.data.training_set\n",
    "train[:3]"
   ]
  },
  {
   "cell_type": "markdown",
   "id": "7db74407",
   "metadata": {},
   "source": [
    "You can easily convert it into a **Pandas** [DataFrame](https://pandas.pydata.org/docs/reference/frame.html), if needed, using the `from_dict` method of the Pandas library (details [here](https://pandas.pydata.org/docs/reference/api/pandas.DataFrame.from_dict.html)):"
   ]
  },
  {
   "cell_type": "code",
   "execution_count": 6,
   "id": "2422522e",
   "metadata": {},
   "outputs": [
    {
     "data": {
      "text/html": [
       "<div>\n",
       "<style scoped>\n",
       "    .dataframe tbody tr th:only-of-type {\n",
       "        vertical-align: middle;\n",
       "    }\n",
       "\n",
       "    .dataframe tbody tr th {\n",
       "        vertical-align: top;\n",
       "    }\n",
       "\n",
       "    .dataframe thead th {\n",
       "        text-align: right;\n",
       "    }\n",
       "</style>\n",
       "<table border=\"1\" class=\"dataframe\">\n",
       "  <thead>\n",
       "    <tr style=\"text-align: right;\">\n",
       "      <th></th>\n",
       "      <th>id</th>\n",
       "      <th>text</th>\n",
       "      <th>label</th>\n",
       "    </tr>\n",
       "  </thead>\n",
       "  <tbody>\n",
       "    <tr>\n",
       "      <th>0</th>\n",
       "      <td>811156813181841408</td>\n",
       "      <td>Zurigo, trovato morto il presunto autore della...</td>\n",
       "      <td>0</td>\n",
       "    </tr>\n",
       "    <tr>\n",
       "      <th>1</th>\n",
       "      <td>811183087350595584</td>\n",
       "      <td>Zurigo, trovato morto il presunto autore della...</td>\n",
       "      <td>0</td>\n",
       "    </tr>\n",
       "    <tr>\n",
       "      <th>2</th>\n",
       "      <td>826380632376881152</td>\n",
       "      <td>Zingari..i soliti \"MERDOSI\"..#cacciamolivia Ro...</td>\n",
       "      <td>0</td>\n",
       "    </tr>\n",
       "  </tbody>\n",
       "</table>\n",
       "</div>"
      ],
      "text/plain": [
       "                   id                                               text  \\\n",
       "0  811156813181841408  Zurigo, trovato morto il presunto autore della...   \n",
       "1  811183087350595584  Zurigo, trovato morto il presunto autore della...   \n",
       "2  826380632376881152  Zingari..i soliti \"MERDOSI\"..#cacciamolivia Ro...   \n",
       "\n",
       "   label  \n",
       "0      0  \n",
       "1      0  \n",
       "2      0  "
      ]
     },
     "execution_count": 6,
     "metadata": {},
     "output_type": "execute_result"
    }
   ],
   "source": [
    "import pandas as pd\n",
    "\n",
    "df_train = pd.DataFrame.from_dict(train)\n",
    "df_train[:3]"
   ]
  },
  {
   "cell_type": "markdown",
   "id": "d065e389",
   "metadata": {},
   "source": [
    "If you need to know which keys belong to the **features list** and what is the key of the **target** you can use the following *metadata* of the `data` variable:\n",
    "* `data.feature_keys`: list of feature keys;\n",
    "* `data.target_key`: key of the target.\n"
   ]
  },
  {
   "cell_type": "code",
   "execution_count": 7,
   "id": "c62428c8",
   "metadata": {},
   "outputs": [
    {
     "name": "stdout",
     "output_type": "stream",
     "text": [
      "data.feature_keys: ['text']\n",
      "data.target_key: label\n"
     ]
    }
   ],
   "source": [
    "print(f\"data.feature_keys: {task.data.feature_keys}\")\n",
    "print(f\"data.target_key: {task.data.target_key}\")"
   ]
  },
  {
   "cell_type": "markdown",
   "id": "b26e137d",
   "metadata": {},
   "source": [
    "If you need to know the list of possible **target values** and their **meaning** you can use the following *metadata* of the `data` variable:\n",
    "* `data.target_values`: list of possible values of the target;\n",
    "* `data.target_desc`: list of meaning of each possible value of the target."
   ]
  },
  {
   "cell_type": "code",
   "execution_count": 8,
   "id": "94a5edd2",
   "metadata": {},
   "outputs": [
    {
     "name": "stdout",
     "output_type": "stream",
     "text": [
      "data.target_values: [0, 1]\n",
      "data.target_desc: ['not ironic', 'ironic']\n"
     ]
    }
   ],
   "source": [
    "print(f\"data.target_values: {task.data.target_values}\")\n",
    "print(f\"data.target_desc: {task.data.target_desc}\")"
   ]
  },
  {
   "cell_type": "markdown",
   "id": "e72de3a4",
   "metadata": {},
   "source": [
    "The **test set** is stored into the `data.test_set` variable, in JSON format as well"
   ]
  },
  {
   "cell_type": "code",
   "execution_count": 9,
   "id": "969e8a6a",
   "metadata": {},
   "outputs": [
    {
     "data": {
      "text/plain": [
       "[{'id': '595524450503815168',\n",
       "  'text': '-Prendere i libri in copisteria-Fare la spesa-Spararmi in bocca-Farmi la doccia',\n",
       "  'label': 1},\n",
       " {'id': '578468106504433665',\n",
       "  'text': '...comunque con una crociera Costa se non ti ammazza Schettino prima ti spara il terrorista dopo...',\n",
       "  'label': 1},\n",
       " {'id': '577791521174466560',\n",
       "  'text': '“<MENTION_1> Ogni ragazza: \\\\\"non sono una ragazza gelosa.\\\\\"*3 minuti dopo*\\\\\"CHI CAZZO È QUELLA PUTTANA?\\\\\"”',\n",
       "  'label': 1}]"
      ]
     },
     "execution_count": 9,
     "metadata": {},
     "output_type": "execute_result"
    }
   ],
   "source": [
    "test = task.data.test_set\n",
    "test[:3]"
   ]
  },
  {
   "cell_type": "markdown",
   "id": "76d7e21c",
   "metadata": {},
   "source": [
    "### 3.2 Create and train a model\n",
    "\n",
    "The `uinauil` package **does not contain models**, but only datasets for training *your* models.\n",
    "\n",
    "You can create your model with any **external package**, using the training set of the task for training it.\n",
    "\n",
    "Here we create a fake model with a *random generator*, quite useless in the real world.."
   ]
  },
  {
   "cell_type": "code",
   "execution_count": 10,
   "id": "81d8ff8a",
   "metadata": {},
   "outputs": [],
   "source": [
    "import random\n",
    "random.seed(42)\n"
   ]
  },
  {
   "cell_type": "markdown",
   "id": "19aa8e30",
   "metadata": {},
   "source": [
    "### 3.3 Evaluate your model\n",
    "\n",
    "You can use your model to make prediction on the test set.\n",
    "\n",
    "Here we just use a *random generator* for generating random values of the target set."
   ]
  },
  {
   "cell_type": "code",
   "execution_count": 11,
   "id": "69b3942e",
   "metadata": {},
   "outputs": [
    {
     "data": {
      "text/plain": [
       "[0, 0, 1, 0, 0]"
      ]
     },
     "execution_count": 11,
     "metadata": {},
     "output_type": "execute_result"
    }
   ],
   "source": [
    "target_values = task.data.target_values\n",
    "predictions = [target_values[random.randint(0,len(target_values)-1)] for x in range(len(task.data.test_set))]\n",
    "predictions[:5]"
   ]
  },
  {
   "cell_type": "markdown",
   "id": "277d4474",
   "metadata": {},
   "source": [
    "You can now **evaluate** the prediction with `evaluate` method, that contains the standard metrics for the task"
   ]
  },
  {
   "cell_type": "code",
   "execution_count": 12,
   "id": "8fcdfca4",
   "metadata": {},
   "outputs": [
    {
     "name": "stdout",
     "output_type": "stream",
     "text": [
      "{'precision_0': 0.48259860788863107, 'recall_0': 0.4759725400457666, 'f1_0': 0.47926267281105994, 'precision_1': 0.48072562358276644, 'recall_1': 0.48735632183908045, 'f1_1': 0.4840182648401826, 'precision_macro': 0.4816621157356987, 'recall_macro': 0.4816644309424235, 'f1_macro': 0.4816404688256213, 'accuracy': 0.481651376146789}\n"
     ]
    }
   ],
   "source": [
    "scores = task.evaluate(predictions)\n",
    "print(scores)"
   ]
  },
  {
   "cell_type": "code",
   "execution_count": null,
   "id": "e494c1ea",
   "metadata": {},
   "outputs": [],
   "source": []
  }
 ],
 "metadata": {
  "kernelspec": {
   "display_name": "Python 3 (ipykernel)",
   "language": "python",
   "name": "python3"
  },
  "language_info": {
   "codemirror_mode": {
    "name": "ipython",
    "version": 3
   },
   "file_extension": ".py",
   "mimetype": "text/x-python",
   "name": "python",
   "nbconvert_exporter": "python",
   "pygments_lexer": "ipython3",
   "version": "3.10.9"
  }
 },
 "nbformat": 4,
 "nbformat_minor": 5
}
